{
  "cells": [
    {
      "cell_type": "code",
      "execution_count": 1,
      "metadata": {
        "colab": {
          "base_uri": "https://localhost:8080/"
        },
        "id": "Q-Uccv3nlW3_",
        "outputId": "2ead6860-90d3-462b-e46a-48cf5ea468d1"
      },
      "outputs": [
        {
          "name": "stdout",
          "output_type": "stream",
          "text": [
            "Looking in indexes: https://pypi.org/simple, https://us-python.pkg.dev/colab-wheels/public/simple/\n",
            "Collecting pytesseract\n",
            "  Downloading pytesseract-0.3.10-py3-none-any.whl (14 kB)\n",
            "Requirement already satisfied: Pillow>=8.0.0 in /usr/local/lib/python3.9/dist-packages (from pytesseract) (8.4.0)\n",
            "Requirement already satisfied: packaging>=21.3 in /usr/local/lib/python3.9/dist-packages (from pytesseract) (23.0)\n",
            "Installing collected packages: pytesseract\n",
            "Successfully installed pytesseract-0.3.10\n"
          ]
        }
      ],
      "source": [
        "# !sudo apt-get update\n",
        "# !sudo apt install tesseract-ocr\n",
        "# !sudo apt install libtesseract-dev\n",
        "# !sudo pip install pytesseract"
      ]
    },
    {
      "cell_type": "code",
      "execution_count": null,
      "metadata": {
        "colab": {
          "base_uri": "https://localhost:8080/"
        },
        "id": "6QjpLE0IlbY4",
        "outputId": "c9d8ecb2-6341-4257-a510-36475003322e"
      },
      "outputs": [
        {
          "name": "stdout",
          "output_type": "stream",
          "text": [
            "\" “She higher we reach to the stars the deeper\n",
            "wah ventiinaiees Meesseen tile Eeneee\n",
            "/ : Mun Shirley\n",
            "\n",
            "  \n",
            "\f \"\n"
          ]
        }
      ],
      "source": [
        "import pytesseract\n",
        "from PIL import Image\n",
        "\n",
        "# Open the image file\n",
        "# image = Image.open('./4626907-Anne-Shirley-Quote-It-does-people-good-to-have-to-do-things-they..jpg')\n",
        "# image = Image.open('./2035212508-tumblr_lyvbr3qoVY1rn62juo1_500..png')\n",
        "# image = Image.open('./1797107224-anne_shirley..jpg')\n",
        "path = './1754940035-c77f44bf2924cd16e01c827806b261de..jpg'\n",
        "image = Image.open(path)\n",
        "\n",
        "# Convert the image to grayscale\n",
        "image = image.convert('L')\n",
        "\n",
        "# Extract the text from the image using Tesseract\n",
        "text = pytesseract.image_to_string(image)\n",
        "\n",
        "# Print the extracted text\n",
        "print('\"', text, '\"')\n"
      ]
    },
    {
      "cell_type": "code",
      "execution_count": null,
      "metadata": {},
      "outputs": [],
      "source": []
    }
  ],
  "metadata": {
    "colab": {
      "provenance": []
    },
    "kernelspec": {
      "display_name": "Python 3",
      "name": "python3"
    },
    "language_info": {
      "name": "python"
    }
  },
  "nbformat": 4,
  "nbformat_minor": 0
}
